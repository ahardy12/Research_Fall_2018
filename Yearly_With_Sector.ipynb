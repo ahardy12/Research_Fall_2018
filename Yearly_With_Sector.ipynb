{
 "cells": [
  {
   "cell_type": "code",
   "execution_count": 4,
   "metadata": {
    "collapsed": true
   },
   "outputs": [],
   "source": [
    "import numpy as np\n",
    "import pandas as pd\n",
    "import os  \n",
    "import seaborn as sns\n",
    "import matplotlib as mpl\n",
    "import matplotlib.pyplot as plt\n",
    "import csv\n",
    "import io\n",
    "import dateutil\n",
    "import collections\n",
    "import time\n",
    "from datetime import datetime\n",
    "import wrds\n",
    "import networkx as nx\n",
    "from __future__ import division\n",
    "from openpyxl import load_workbook"
   ]
  },
  {
   "cell_type": "code",
   "execution_count": 5,
   "metadata": {
    "collapsed": true
   },
   "outputs": [],
   "source": [
    "G = nx.DiGraph()"
   ]
  },
  {
   "cell_type": "code",
   "execution_count": 6,
   "metadata": {
    "collapsed": true
   },
   "outputs": [],
   "source": [
    "GIC = nodelist_1976 = pd.read_excel('GIC_Database.xlsx')"
   ]
  },
  {
   "cell_type": "code",
   "execution_count": 7,
   "metadata": {
    "collapsed": false
   },
   "outputs": [],
   "source": [
    "nodelist_1976 = pd.read_excel('Supply_Chain_DB_By_Date.xlsx', sheetname=\"1976\")\n",
    "nodelist_1977 = pd.read_excel('Supply_Chain_DB_By_Date.xlsx', sheetname=\"1977\")\n",
    "nodelist_1978 = pd.read_excel('Supply_Chain_DB_By_Date.xlsx', sheetname=\"1978\")\n",
    "nodelist_1979 = pd.read_excel('Supply_Chain_DB_By_Date.xlsx', sheetname=\"1979\")\n",
    "nodelist_1980 = pd.read_excel('Supply_Chain_DB_By_Date.xlsx', sheetname=\"1980\")\n",
    "nodelist_1981 = pd.read_excel('Supply_Chain_DB_By_Date.xlsx', sheetname=\"1981\")\n",
    "nodelist_1982 = pd.read_excel('Supply_Chain_DB_By_Date.xlsx', sheetname=\"1982\")\n",
    "nodelist_1983 = pd.read_excel('Supply_Chain_DB_By_Date.xlsx', sheetname=\"1983\")\n",
    "nodelist_1984 = pd.read_excel('Supply_Chain_DB_By_Date.xlsx', sheetname=\"1984\")\n",
    "nodelist_1985 = pd.read_excel('Supply_Chain_DB_By_Date.xlsx', sheetname=\"1985\")\n",
    "nodelist_1986 = pd.read_excel('Supply_Chain_DB_By_Date.xlsx', sheetname=\"1986\")\n",
    "nodelist_1987 = pd.read_excel('Supply_Chain_DB_By_Date.xlsx', sheetname=\"1987\")\n",
    "nodelist_1988 = pd.read_excel('Supply_Chain_DB_By_Date.xlsx', sheetname=\"1988\")\n",
    "nodelist_1989 = pd.read_excel('Supply_Chain_DB_By_Date.xlsx', sheetname=\"1989\")\n",
    "nodelist_1990 = pd.read_excel('Supply_Chain_DB_By_Date.xlsx', sheetname=\"1990\")\n",
    "nodelist_1991 = pd.read_excel('Supply_Chain_DB_By_Date.xlsx', sheetname=\"1991\")\n",
    "nodelist_1992 = pd.read_excel('Supply_Chain_DB_By_Date.xlsx', sheetname=\"1992\")\n",
    "nodelist_1993 = pd.read_excel('Supply_Chain_DB_By_Date.xlsx', sheetname=\"1993\")\n",
    "nodelist_1994 = pd.read_excel('Supply_Chain_DB_By_Date.xlsx', sheetname=\"1994\")\n",
    "nodelist_1995 = pd.read_excel('Supply_Chain_DB_By_Date.xlsx', sheetname=\"1995\")\n",
    "nodelist_1996 = pd.read_excel('Supply_Chain_DB_By_Date.xlsx', sheetname=\"1996\")\n",
    "nodelist_1997 = pd.read_excel('Supply_Chain_DB_By_Date.xlsx', sheetname=\"1997\")\n",
    "nodelist_1998 = pd.read_excel('Supply_Chain_DB_By_Date.xlsx', sheetname=\"1998\")\n",
    "nodelist_1999 = pd.read_excel('Supply_Chain_DB_By_Date.xlsx', sheetname=\"1999\")\n",
    "nodelist_2000 = pd.read_excel('Supply_Chain_DB_By_Date.xlsx', sheetname=\"2000\")\n",
    "nodelist_2001 = pd.read_excel('Supply_Chain_DB_By_Date.xlsx', sheetname=\"2001\")\n",
    "nodelist_2002 = pd.read_excel('Supply_Chain_DB_By_Date.xlsx', sheetname=\"2002\")\n",
    "nodelist_2003 = pd.read_excel('Supply_Chain_DB_By_Date.xlsx', sheetname=\"2003\")\n",
    "nodelist_2004 = pd.read_excel('Supply_Chain_DB_By_Date.xlsx', sheetname=\"2004\")\n",
    "nodelist_2005 = pd.read_excel('Supply_Chain_DB_By_Date.xlsx', sheetname=\"2005\")\n",
    "nodelist_2006 = pd.read_excel('Supply_Chain_DB_By_Date.xlsx', sheetname=\"2006\")\n",
    "nodelist_2007 = pd.read_excel('Supply_Chain_DB_By_Date.xlsx', sheetname=\"2007\")\n",
    "nodelist_2008 = pd.read_excel('Supply_Chain_DB_By_Date.xlsx', sheetname=\"2008\")\n",
    "nodelist_2009 = pd.read_excel('Supply_Chain_DB_By_Date.xlsx', sheetname=\"2009\")\n",
    "nodelist_2010 = pd.read_excel('Supply_Chain_DB_By_Date.xlsx', sheetname=\"2010\")\n",
    "nodelist_2011 = pd.read_excel('Supply_Chain_DB_By_Date.xlsx', sheetname=\"2011\")\n",
    "nodelist_2012 = pd.read_excel('Supply_Chain_DB_By_Date.xlsx', sheetname=\"2012\")\n",
    "nodelist_2013 = pd.read_excel('Supply_Chain_DB_By_Date.xlsx', sheetname=\"2013\")\n",
    "nodelist_2014 = pd.read_excel('Supply_Chain_DB_By_Date.xlsx', sheetname=\"2014\")\n",
    "nodelist_2015 = pd.read_excel('Supply_Chain_DB_By_Date.xlsx', sheetname=\"2015\")\n",
    "nodelist_2016 = pd.read_excel('Supply_Chain_DB_By_Date.xlsx', sheetname=\"2016\")\n",
    "nodelist_2017 = pd.read_excel('Supply_Chain_DB_By_Date.xlsx', sheetname=\"2017\")"
   ]
  },
  {
   "cell_type": "code",
   "execution_count": 8,
   "metadata": {
    "collapsed": false
   },
   "outputs": [],
   "source": [
    "G_1976=nx.from_pandas_edgelist(nodelist_1976,'Supplier_Gvkey','Customer_Gvkey', edge_attr=True)\n",
    "G_1977=nx.from_pandas_edgelist(nodelist_1977,'Supplier_Gvkey','Customer_Gvkey', edge_attr=True)\n",
    "G_1978=nx.from_pandas_edgelist(nodelist_1978,'Supplier_Gvkey','Customer_Gvkey', edge_attr=True)\n",
    "G_1979=nx.from_pandas_edgelist(nodelist_1979,'Supplier_Gvkey','Customer_Gvkey', edge_attr=True)\n",
    "G_1980=nx.from_pandas_edgelist(nodelist_1980,'Supplier_Gvkey','Customer_Gvkey', edge_attr=True)\n",
    "G_1981=nx.from_pandas_edgelist(nodelist_1981,'Supplier_Gvkey','Customer_Gvkey', edge_attr=True)\n",
    "G_1982=nx.from_pandas_edgelist(nodelist_1982,'Supplier_Gvkey','Customer_Gvkey', edge_attr=True)\n",
    "G_1983=nx.from_pandas_edgelist(nodelist_1983,'Supplier_Gvkey','Customer_Gvkey', edge_attr=True)\n",
    "G_1984=nx.from_pandas_edgelist(nodelist_1984,'Supplier_Gvkey','Customer_Gvkey', edge_attr=True)\n",
    "G_1985=nx.from_pandas_edgelist(nodelist_1985,'Supplier_Gvkey','Customer_Gvkey', edge_attr=True)\n",
    "G_1986=nx.from_pandas_edgelist(nodelist_1986,'Supplier_Gvkey','Customer_Gvkey', edge_attr=True)\n",
    "G_1987=nx.from_pandas_edgelist(nodelist_1987,'Supplier_Gvkey','Customer_Gvkey', edge_attr=True)\n",
    "G_1988=nx.from_pandas_edgelist(nodelist_1988,'Supplier_Gvkey','Customer_Gvkey', edge_attr=True)\n",
    "G_1989=nx.from_pandas_edgelist(nodelist_1989,'Supplier_Gvkey','Customer_Gvkey', edge_attr=True)\n",
    "G_1990=nx.from_pandas_edgelist(nodelist_1990,'Supplier_Gvkey','Customer_Gvkey', edge_attr=True)\n",
    "G_1991=nx.from_pandas_edgelist(nodelist_1991,'Supplier_Gvkey','Customer_Gvkey', edge_attr=True)\n",
    "G_1992=nx.from_pandas_edgelist(nodelist_1992,'Supplier_Gvkey','Customer_Gvkey', edge_attr=True)\n",
    "G_1993=nx.from_pandas_edgelist(nodelist_1993,'Supplier_Gvkey','Customer_Gvkey', edge_attr=True)\n",
    "G_1994=nx.from_pandas_edgelist(nodelist_1994,'Supplier_Gvkey','Customer_Gvkey', edge_attr=True)\n",
    "G_1995=nx.from_pandas_edgelist(nodelist_1995,'Supplier_Gvkey','Customer_Gvkey', edge_attr=True)\n",
    "G_1996=nx.from_pandas_edgelist(nodelist_1996,'Supplier_Gvkey','Customer_Gvkey', edge_attr=True)\n",
    "G_1997=nx.from_pandas_edgelist(nodelist_1997,'Supplier_Gvkey','Customer_Gvkey', edge_attr=True)\n",
    "G_1998=nx.from_pandas_edgelist(nodelist_1998,'Supplier_Gvkey','Customer_Gvkey', edge_attr=True)\n",
    "G_1999=nx.from_pandas_edgelist(nodelist_1999,'Supplier_Gvkey','Customer_Gvkey', edge_attr=True)\n",
    "G_2000=nx.from_pandas_edgelist(nodelist_2000,'Supplier_Gvkey','Customer_Gvkey', edge_attr=True)\n",
    "G_2001=nx.from_pandas_edgelist(nodelist_2001,'Supplier_Gvkey','Customer_Gvkey', edge_attr=True)\n",
    "G_2002=nx.from_pandas_edgelist(nodelist_2002,'Supplier_Gvkey','Customer_Gvkey', edge_attr=True)\n",
    "G_2003=nx.from_pandas_edgelist(nodelist_2003,'Supplier_Gvkey','Customer_Gvkey', edge_attr=True)\n",
    "G_2004=nx.from_pandas_edgelist(nodelist_2004,'Supplier_Gvkey','Customer_Gvkey', edge_attr=True)\n",
    "G_2005=nx.from_pandas_edgelist(nodelist_2005,'Supplier_Gvkey','Customer_Gvkey', edge_attr=True)\n",
    "G_2006=nx.from_pandas_edgelist(nodelist_2006,'Supplier_Gvkey','Customer_Gvkey', edge_attr=True)\n",
    "G_2007=nx.from_pandas_edgelist(nodelist_2007,'Supplier_Gvkey','Customer_Gvkey', edge_attr=True)\n",
    "G_2008=nx.from_pandas_edgelist(nodelist_2008,'Supplier_Gvkey','Customer_Gvkey', edge_attr=True)\n",
    "G_2009=nx.from_pandas_edgelist(nodelist_2009,'Supplier_Gvkey','Customer_Gvkey', edge_attr=True)\n",
    "G_2010=nx.from_pandas_edgelist(nodelist_2010,'Supplier_Gvkey','Customer_Gvkey', edge_attr=True)\n",
    "G_2011=nx.from_pandas_edgelist(nodelist_2011,'Supplier_Gvkey','Customer_Gvkey', edge_attr=True)\n",
    "G_2012=nx.from_pandas_edgelist(nodelist_2012,'Supplier_Gvkey','Customer_Gvkey', edge_attr=True)\n",
    "G_2013=nx.from_pandas_edgelist(nodelist_2013,'Supplier_Gvkey','Customer_Gvkey', edge_attr=True)\n",
    "G_2014=nx.from_pandas_edgelist(nodelist_2014,'Supplier_Gvkey','Customer_Gvkey', edge_attr=True)\n",
    "G_2015=nx.from_pandas_edgelist(nodelist_2015,'Supplier_Gvkey','Customer_Gvkey', edge_attr=True)\n",
    "G_2016=nx.from_pandas_edgelist(nodelist_2016,'Supplier_Gvkey','Customer_Gvkey', edge_attr=True)\n",
    "G_2017=nx.from_pandas_edgelist(nodelist_2017,'Supplier_Gvkey','Customer_Gvkey', edge_attr=True)"
   ]
  },
  {
   "cell_type": "code",
   "execution_count": 9,
   "metadata": {
    "collapsed": false
   },
   "outputs": [],
   "source": [
    "Node_List= [nodelist_1976,nodelist_1977,nodelist_1978,nodelist_1979,nodelist_1980,nodelist_1981,\n",
    "            nodelist_1982,nodelist_1983,nodelist_1984,nodelist_1985,nodelist_1986,\n",
    "            nodelist_1987,nodelist_1988,nodelist_1989,nodelist_1990,nodelist_1991,nodelist_1992,\n",
    "            nodelist_1993,nodelist_1994,nodelist_1995,nodelist_1996,nodelist_1997,nodelist_1998,nodelist_1999,nodelist_2000,\n",
    "            nodelist_2001,nodelist_2002,nodelist_2003,nodelist_2004,nodelist_2005,nodelist_2006,nodelist_2007,nodelist_2008,\n",
    "            nodelist_2009,nodelist_2010,nodelist_2011,nodelist_2012,nodelist_2013,nodelist_2014,nodelist_2015,nodelist_2016,\n",
    "            nodelist_2017]"
   ]
  },
  {
   "cell_type": "code",
   "execution_count": 10,
   "metadata": {
    "collapsed": true
   },
   "outputs": [],
   "source": [
    "Graph_List = [G_1976,G_1977,G_1978,G_1979,G_1980,G_1981,G_1982,G_1983,G_1984,G_1985,G_1986,G_1987,G_1988,G_1989,G_1990,G_1991,G_1992,G_1993,G_1994,G_1995,G_1996,G_1997,G_1998,G_1999,G_2000,G_2001,G_2002,G_2003,G_2004,G_2005,G_2006,G_2007,G_2008,G_2009,G_2010,G_2011,G_2012,G_2013,G_2014,G_2015,G_2016,G_2017]"
   ]
  },
  {
   "cell_type": "code",
   "execution_count": 11,
   "metadata": {
    "collapsed": false
   },
   "outputs": [],
   "source": [
    "for g in Graph_List:\n",
    "    g= g.to_directed()"
   ]
  },
  {
   "cell_type": "code",
   "execution_count": 14,
   "metadata": {
    "collapsed": false,
    "scrolled": true
   },
   "outputs": [],
   "source": [
    "year=1976\n",
    "subgraphdf = pd.DataFrame()\n",
    "for g in Graph_List:\n",
    "    degdf = pd.DataFrame()\n",
    "    degdf[\"Gvkey\"] = np.nan\n",
    "    degdf[\"Year\"] = np.nan\n",
    "    degdf[\"GIC_Sectors\"] = np.nan\n",
    "    degdf[\"GIC_Sub_Industries\"] = np.nan\n",
    "    degdf[\"degree\"] = np.nan\n",
    "    i =0\n",
    "    for n in list(g.nodes()):\n",
    "        degdf.loc[i,\"Node\"] = float(n)\n",
    "        degdf.loc[i,\"Year\"] = year\n",
    "        #degdf.loc[i,\"Connected_Nodes\"] = [list(g.neighbors(n))]\n",
    "        degdf.loc[i,\"degree\"] = g.degree(n)\n",
    "        i=i+1\n",
    "    subgraphdf = subgraphdf.append(degdf.sort_values(by=\"degree\",ascending=False)[:10],ignore_index=True)\n",
    "    year=year+1"
   ]
  },
  {
   "cell_type": "code",
   "execution_count": 16,
   "metadata": {
    "collapsed": false
   },
   "outputs": [],
   "source": [
    "for g in GIC.index:\n",
    "    for i in subgraphdf.index:\n",
    "        if subgraphdf.loc[i,\"Node\"] is not None:\n",
    "            m = int(GIC.loc[g,\"Gvkey\"])\n",
    "            n = int(subgraphdf.loc[i,\"Node\"])\n",
    "            if (m == n) :\n",
    "                subgraphdf.loc[i,\"GIC_Sectors\"] = GIC.loc[g,\"GIC_Sectors\"]\n",
    "                subgraphdf.loc[i,\"GIC_Sub_Industries\"] = GIC.loc[g,\"GIC_Sub_Industries\"]\n",
    "subgraphdf.to_excel('Yearly_With_Sector.xlsx')"
   ]
  },
  {
   "cell_type": "code",
   "execution_count": 34,
   "metadata": {
    "collapsed": true
   },
   "outputs": [],
   "source": [
    "subgraphdf_1990 = G_1990.subgraph([1581,5073,4839,6066,11259,3022,9563,6307,5047,8446])\n",
    "subgraphdf_1991 = G_1991.subgraph([1581,5073,4839,11259,6066,3022,9563,6307,5047,8446])\n",
    "subgraphdf_1992 = G_1992.subgraph([11259,1581,5073,4839,6066,6307,3022,9563,5047,8446])\n",
    "subgraphdf_1993 = G_1993.subgraph([11259,1581,4839,5073,6066,3022,6307,63919,5047,8446])\n",
    "subgraphdf_1994 = G_1994.subgraph([11259,1581,5073,4839,6066,3022,6307,63919,7585,8446])\n",
    "subgraphdf_1995 = G_1995.subgraph([11259,1581,5073,4839,6066,3022,63919,6307,7585,8446])\n",
    "subgraphdf_1996 = G_1996.subgraph([11259,1581,5073,6066,4839,3022,6307,63919,7585,9563])\n",
    "subgraphdf_1997 = G_1997.subgraph([11259,5073,1581,6066,4839,6307,3022,63919,7585,5606])\n",
    "subgraphdf_1998 = G_1998.subgraph([11259,5073,6066,1581,4839,7585,63919,5606,6307,17828])\n",
    "subgraphdf_1999 = G_1999.subgraph([11259,5073,6066,1581,4839,17828,7585,62599,63919,3282])\n",
    "subgraphdf_2000 = G_2000.subgraph([11259,5073,4839,17828,1581,6066,62599,7585,63919,6307])"
   ]
  },
  {
   "cell_type": "code",
   "execution_count": 37,
   "metadata": {
    "collapsed": false
   },
   "outputs": [
    {
     "ename": "TclError",
     "evalue": "no display name and no $DISPLAY environment variable",
     "output_type": "error",
     "traceback": [
      "\u001b[1;31m---------------------------------------------------------------------------\u001b[0m",
      "\u001b[1;31mTclError\u001b[0m                                  Traceback (most recent call last)",
      "\u001b[1;32m<ipython-input-37-65db41cb7c4a>\u001b[0m in \u001b[0;36m<module>\u001b[1;34m()\u001b[0m\n\u001b[1;32m----> 1\u001b[1;33m \u001b[0mnx\u001b[0m\u001b[1;33m.\u001b[0m\u001b[0mdraw\u001b[0m\u001b[1;33m(\u001b[0m\u001b[0msubgraphdf_1990\u001b[0m\u001b[1;33m)\u001b[0m\u001b[1;33m\u001b[0m\u001b[0m\n\u001b[0m\u001b[0;32m      2\u001b[0m \u001b[0mplt\u001b[0m\u001b[1;33m.\u001b[0m\u001b[0mdraw\u001b[0m\u001b[1;33m(\u001b[0m\u001b[1;33m)\u001b[0m\u001b[1;33m\u001b[0m\u001b[0m\n",
      "\u001b[1;32m/usr/lib/python3.4/site-packages/networkx/drawing/nx_pylab.py\u001b[0m in \u001b[0;36mdraw\u001b[1;34m(G, pos, ax, **kwds)\u001b[0m\n\u001b[0;32m    110\u001b[0m \u001b[1;33m\u001b[0m\u001b[0m\n\u001b[0;32m    111\u001b[0m     \u001b[1;32mif\u001b[0m \u001b[0max\u001b[0m \u001b[1;32mis\u001b[0m \u001b[1;32mNone\u001b[0m\u001b[1;33m:\u001b[0m\u001b[1;33m\u001b[0m\u001b[0m\n\u001b[1;32m--> 112\u001b[1;33m         \u001b[0mcf\u001b[0m \u001b[1;33m=\u001b[0m \u001b[0mplt\u001b[0m\u001b[1;33m.\u001b[0m\u001b[0mgcf\u001b[0m\u001b[1;33m(\u001b[0m\u001b[1;33m)\u001b[0m\u001b[1;33m\u001b[0m\u001b[0m\n\u001b[0m\u001b[0;32m    113\u001b[0m     \u001b[1;32melse\u001b[0m\u001b[1;33m:\u001b[0m\u001b[1;33m\u001b[0m\u001b[0m\n\u001b[0;32m    114\u001b[0m         \u001b[0mcf\u001b[0m \u001b[1;33m=\u001b[0m \u001b[0max\u001b[0m\u001b[1;33m.\u001b[0m\u001b[0mget_figure\u001b[0m\u001b[1;33m(\u001b[0m\u001b[1;33m)\u001b[0m\u001b[1;33m\u001b[0m\u001b[0m\n",
      "\u001b[1;32m/usr/lib64/python3.4/site-packages/matplotlib/pyplot.py\u001b[0m in \u001b[0;36mgcf\u001b[1;34m()\u001b[0m\n\u001b[0;32m    576\u001b[0m         \u001b[1;32mreturn\u001b[0m \u001b[0mfigManager\u001b[0m\u001b[1;33m.\u001b[0m\u001b[0mcanvas\u001b[0m\u001b[1;33m.\u001b[0m\u001b[0mfigure\u001b[0m\u001b[1;33m\u001b[0m\u001b[0m\n\u001b[0;32m    577\u001b[0m     \u001b[1;32melse\u001b[0m\u001b[1;33m:\u001b[0m\u001b[1;33m\u001b[0m\u001b[0m\n\u001b[1;32m--> 578\u001b[1;33m         \u001b[1;32mreturn\u001b[0m \u001b[0mfigure\u001b[0m\u001b[1;33m(\u001b[0m\u001b[1;33m)\u001b[0m\u001b[1;33m\u001b[0m\u001b[0m\n\u001b[0m\u001b[0;32m    579\u001b[0m \u001b[1;33m\u001b[0m\u001b[0m\n\u001b[0;32m    580\u001b[0m \u001b[1;33m\u001b[0m\u001b[0m\n",
      "\u001b[1;32m/usr/lib64/python3.4/site-packages/matplotlib/pyplot.py\u001b[0m in \u001b[0;36mfigure\u001b[1;34m(num, figsize, dpi, facecolor, edgecolor, frameon, FigureClass, **kwargs)\u001b[0m\n\u001b[0;32m    525\u001b[0m                                         \u001b[0mframeon\u001b[0m\u001b[1;33m=\u001b[0m\u001b[0mframeon\u001b[0m\u001b[1;33m,\u001b[0m\u001b[1;33m\u001b[0m\u001b[0m\n\u001b[0;32m    526\u001b[0m                                         \u001b[0mFigureClass\u001b[0m\u001b[1;33m=\u001b[0m\u001b[0mFigureClass\u001b[0m\u001b[1;33m,\u001b[0m\u001b[1;33m\u001b[0m\u001b[0m\n\u001b[1;32m--> 527\u001b[1;33m                                         **kwargs)\n\u001b[0m\u001b[0;32m    528\u001b[0m \u001b[1;33m\u001b[0m\u001b[0m\n\u001b[0;32m    529\u001b[0m         \u001b[1;32mif\u001b[0m \u001b[0mfigLabel\u001b[0m\u001b[1;33m:\u001b[0m\u001b[1;33m\u001b[0m\u001b[0m\n",
      "\u001b[1;32m/usr/lib64/python3.4/site-packages/matplotlib/backends/backend_tkagg.py\u001b[0m in \u001b[0;36mnew_figure_manager\u001b[1;34m(num, *args, **kwargs)\u001b[0m\n\u001b[0;32m     82\u001b[0m     \u001b[0mFigureClass\u001b[0m \u001b[1;33m=\u001b[0m \u001b[0mkwargs\u001b[0m\u001b[1;33m.\u001b[0m\u001b[0mpop\u001b[0m\u001b[1;33m(\u001b[0m\u001b[1;34m'FigureClass'\u001b[0m\u001b[1;33m,\u001b[0m \u001b[0mFigure\u001b[0m\u001b[1;33m)\u001b[0m\u001b[1;33m\u001b[0m\u001b[0m\n\u001b[0;32m     83\u001b[0m     \u001b[0mfigure\u001b[0m \u001b[1;33m=\u001b[0m \u001b[0mFigureClass\u001b[0m\u001b[1;33m(\u001b[0m\u001b[1;33m*\u001b[0m\u001b[0margs\u001b[0m\u001b[1;33m,\u001b[0m \u001b[1;33m**\u001b[0m\u001b[0mkwargs\u001b[0m\u001b[1;33m)\u001b[0m\u001b[1;33m\u001b[0m\u001b[0m\n\u001b[1;32m---> 84\u001b[1;33m     \u001b[1;32mreturn\u001b[0m \u001b[0mnew_figure_manager_given_figure\u001b[0m\u001b[1;33m(\u001b[0m\u001b[0mnum\u001b[0m\u001b[1;33m,\u001b[0m \u001b[0mfigure\u001b[0m\u001b[1;33m)\u001b[0m\u001b[1;33m\u001b[0m\u001b[0m\n\u001b[0m\u001b[0;32m     85\u001b[0m \u001b[1;33m\u001b[0m\u001b[0m\n\u001b[0;32m     86\u001b[0m \u001b[1;33m\u001b[0m\u001b[0m\n",
      "\u001b[1;32m/usr/lib64/python3.4/site-packages/matplotlib/backends/backend_tkagg.py\u001b[0m in \u001b[0;36mnew_figure_manager_given_figure\u001b[1;34m(num, figure)\u001b[0m\n\u001b[0;32m     90\u001b[0m     \"\"\"\n\u001b[0;32m     91\u001b[0m     \u001b[0m_focus\u001b[0m \u001b[1;33m=\u001b[0m \u001b[0mwindowing\u001b[0m\u001b[1;33m.\u001b[0m\u001b[0mFocusManager\u001b[0m\u001b[1;33m(\u001b[0m\u001b[1;33m)\u001b[0m\u001b[1;33m\u001b[0m\u001b[0m\n\u001b[1;32m---> 92\u001b[1;33m     \u001b[0mwindow\u001b[0m \u001b[1;33m=\u001b[0m \u001b[0mTk\u001b[0m\u001b[1;33m.\u001b[0m\u001b[0mTk\u001b[0m\u001b[1;33m(\u001b[0m\u001b[1;33m)\u001b[0m\u001b[1;33m\u001b[0m\u001b[0m\n\u001b[0m\u001b[0;32m     93\u001b[0m     \u001b[0mwindow\u001b[0m\u001b[1;33m.\u001b[0m\u001b[0mwithdraw\u001b[0m\u001b[1;33m(\u001b[0m\u001b[1;33m)\u001b[0m\u001b[1;33m\u001b[0m\u001b[0m\n\u001b[0;32m     94\u001b[0m \u001b[1;33m\u001b[0m\u001b[0m\n",
      "\u001b[1;32m/usr/lib64/python3.4/tkinter/__init__.py\u001b[0m in \u001b[0;36m__init__\u001b[1;34m(self, screenName, baseName, className, useTk, sync, use)\u001b[0m\n\u001b[0;32m   1849\u001b[0m                 \u001b[0mbaseName\u001b[0m \u001b[1;33m=\u001b[0m \u001b[0mbaseName\u001b[0m \u001b[1;33m+\u001b[0m \u001b[0mext\u001b[0m\u001b[1;33m\u001b[0m\u001b[0m\n\u001b[0;32m   1850\u001b[0m         \u001b[0minteractive\u001b[0m \u001b[1;33m=\u001b[0m \u001b[1;36m0\u001b[0m\u001b[1;33m\u001b[0m\u001b[0m\n\u001b[1;32m-> 1851\u001b[1;33m         \u001b[0mself\u001b[0m\u001b[1;33m.\u001b[0m\u001b[0mtk\u001b[0m \u001b[1;33m=\u001b[0m \u001b[0m_tkinter\u001b[0m\u001b[1;33m.\u001b[0m\u001b[0mcreate\u001b[0m\u001b[1;33m(\u001b[0m\u001b[0mscreenName\u001b[0m\u001b[1;33m,\u001b[0m \u001b[0mbaseName\u001b[0m\u001b[1;33m,\u001b[0m \u001b[0mclassName\u001b[0m\u001b[1;33m,\u001b[0m \u001b[0minteractive\u001b[0m\u001b[1;33m,\u001b[0m \u001b[0mwantobjects\u001b[0m\u001b[1;33m,\u001b[0m \u001b[0museTk\u001b[0m\u001b[1;33m,\u001b[0m \u001b[0msync\u001b[0m\u001b[1;33m,\u001b[0m \u001b[0muse\u001b[0m\u001b[1;33m)\u001b[0m\u001b[1;33m\u001b[0m\u001b[0m\n\u001b[0m\u001b[0;32m   1852\u001b[0m         \u001b[1;32mif\u001b[0m \u001b[0museTk\u001b[0m\u001b[1;33m:\u001b[0m\u001b[1;33m\u001b[0m\u001b[0m\n\u001b[0;32m   1853\u001b[0m             \u001b[0mself\u001b[0m\u001b[1;33m.\u001b[0m\u001b[0m_loadtk\u001b[0m\u001b[1;33m(\u001b[0m\u001b[1;33m)\u001b[0m\u001b[1;33m\u001b[0m\u001b[0m\n",
      "\u001b[1;31mTclError\u001b[0m: no display name and no $DISPLAY environment variable"
     ]
    }
   ],
   "source": [
    "nx.draw(subgraphdf_1990)\n",
    "plt.draw()"
   ]
  },
  {
   "cell_type": "code",
   "execution_count": 35,
   "metadata": {
    "collapsed": false
   },
   "outputs": [],
   "source": [
    "#for n in list(G_1976.nodes()):\n",
    "    #print(list(G_1976.neighbors(n)))"
   ]
  },
  {
   "cell_type": "code",
   "execution_count": null,
   "metadata": {
    "collapsed": true
   },
   "outputs": [],
   "source": [
    "#deg_freq = degdf.groupby('degree').count()\n",
    "    #plt.plot(deg_freq.index, np.log(deg_freq['nodeid']))\n",
    "    #deg_freq2 = deg_freq.sort_index(ascending=False)\n",
    "    #deg_freq2['cumfreq'] = np.cumsum(deg_freq2.nodeid)\n",
    "    #deg_freq2.tail(10)"
   ]
  }
 ],
 "metadata": {
  "kernelspec": {
   "display_name": "Python 3",
   "language": "python",
   "name": "python3"
  },
  "language_info": {
   "codemirror_mode": {
    "name": "ipython",
    "version": 3
   },
   "file_extension": ".py",
   "mimetype": "text/x-python",
   "name": "python",
   "nbconvert_exporter": "python",
   "pygments_lexer": "ipython3",
   "version": "3.4.3"
  }
 },
 "nbformat": 4,
 "nbformat_minor": 2
}
