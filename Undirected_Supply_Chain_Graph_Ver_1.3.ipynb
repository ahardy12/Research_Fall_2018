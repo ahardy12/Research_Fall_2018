{
 "cells": [
  {
   "cell_type": "code",
   "execution_count": 1,
   "metadata": {
    "collapsed": true
   },
   "outputs": [],
   "source": [
    "import matplotlib\n",
    "matplotlib.use('Agg')"
   ]
  },
  {
   "cell_type": "code",
   "execution_count": 2,
   "metadata": {
    "collapsed": false
   },
   "outputs": [],
   "source": [
    "import numpy as np\n",
    "import pandas as pd\n",
    "import os  \n",
    "import seaborn as sns\n",
    "import matplotlib.pyplot as plt\n",
    "import csv\n",
    "import io\n",
    "import dateutil\n",
    "import collections\n",
    "import time\n",
    "from datetime import datetime\n",
    "import wrds\n",
    "import networkx as nx"
   ]
  },
  {
   "cell_type": "code",
   "execution_count": 3,
   "metadata": {
    "collapsed": false
   },
   "outputs": [
    {
     "data": {
      "text/plain": [
       "'2.2'"
      ]
     },
     "execution_count": 3,
     "metadata": {},
     "output_type": "execute_result"
    }
   ],
   "source": [
    "nx.__version__"
   ]
  },
  {
   "cell_type": "code",
   "execution_count": null,
   "metadata": {
    "collapsed": false
   },
   "outputs": [],
   "source": [
    "db = wrds.Connection()"
   ]
  },
  {
   "cell_type": "code",
   "execution_count": 75,
   "metadata": {
    "collapsed": false,
    "scrolled": false
   },
   "outputs": [
    {
     "data": {
      "text/plain": [
       "['aha_sample',\n",
       " 'ahasamp',\n",
       " 'audit',\n",
       " 'audit_audit_comp',\n",
       " 'audit_corp_legal',\n",
       " 'block',\n",
       " 'boardex',\n",
       " 'boardex_na',\n",
       " 'boardex_trial',\n",
       " 'bvd']"
      ]
     },
     "execution_count": 75,
     "metadata": {},
     "output_type": "execute_result"
    }
   ],
   "source": [
    "list_libraries = db.list_libraries()\n",
    "list_libraries[:10]"
   ]
  },
  {
   "cell_type": "code",
   "execution_count": 4,
   "metadata": {
    "collapsed": false
   },
   "outputs": [],
   "source": [
    "nodelist = pd.read_excel('Supply_Chain_No_Dup.xlsx') #make a pandas df from Nodes.csv\n",
    "supplierinfo = pd.read_excel('Supplier_Names.xlsx') #Supplier Names with gvkey\n",
    "customerinfo = pd.read_excel('Customer_Names.xlsx') #Customer Names with gvkey"
   ]
  },
  {
   "cell_type": "code",
   "execution_count": 5,
   "metadata": {
    "collapsed": false
   },
   "outputs": [
    {
     "name": "stdout",
     "output_type": "stream",
     "text": [
      "['SupplierGvkey', 'SupplierName', 'CustomerGvkey', 'CustomerCurrentName', 'Date', 'Sales']\n"
     ]
    }
   ],
   "source": [
    "print(list(nodelist))\n",
    "#edge_list[:10]"
   ]
  },
  {
   "cell_type": "code",
   "execution_count": 10,
   "metadata": {
    "collapsed": false
   },
   "outputs": [],
   "source": [
    "#Create Graph and Edges from dataframe\n",
    "G=nx.from_pandas_edgelist(nodelist,'CustomerGvkey','SupplierGvkey',edge_attr=True)\n",
    "#from_pandas_d_edgelist(df,source,target,edge_attr=True (true pulls all other columns))"
   ]
  },
  {
   "cell_type": "code",
   "execution_count": 12,
   "metadata": {
    "collapsed": false
   },
   "outputs": [],
   "source": [
    "for i, nlrow in supplierinfo.iterrows():\n",
    "    G.node[nlrow['SupplierGvkey']].update(nlrow[1:].to_dict())  #Add info to Supplier Gvkey Nodes.\n"
   ]
  },
  {
   "cell_type": "code",
   "execution_count": 13,
   "metadata": {
    "collapsed": true
   },
   "outputs": [],
   "source": [
    "for i, nlrow in customerinfo.iterrows():\n",
    "    G.node[nlrow['CustomerGvkey']].update(nlrow[1:].to_dict()) #Add info to Customer Gvkey Nodes"
   ]
  },
  {
   "cell_type": "markdown",
   "metadata": {},
   "source": [
    "Had to change the three cells above because of networkx 2.2\n",
    "\n",
    "See urls: https://networkx.github.io/documentation/stable/reference/generated/networkx.convert_matrix.from_pandas_edgelist.html#networkx.convert_matrix.from_pandas_edgelist\n",
    "\n",
    "https://stackoverflow.com/questions/47045155/typeerror-nodeview-object-does-not-support-item-assignment-networkx"
   ]
  },
  {
   "cell_type": "code",
   "execution_count": 14,
   "metadata": {
    "collapsed": false
   },
   "outputs": [
    {
     "data": {
      "text/plain": [
       "11735"
      ]
     },
     "execution_count": 14,
     "metadata": {},
     "output_type": "execute_result"
    }
   ],
   "source": [
    "nx.number_of_nodes(G)"
   ]
  },
  {
   "cell_type": "code",
   "execution_count": 256,
   "metadata": {
    "collapsed": false
   },
   "outputs": [
    {
     "data": {
      "text/plain": [
       "networkx.classes.reportviews.DegreeView"
      ]
     },
     "execution_count": 256,
     "metadata": {},
     "output_type": "execute_result"
    }
   ],
   "source": [
    "type(G.degree())  # the number of degrees for each node"
   ]
  },
  {
   "cell_type": "code",
   "execution_count": 24,
   "metadata": {
    "collapsed": false,
    "scrolled": true
   },
   "outputs": [],
   "source": [
    "#for line in nx.generate_edgelist(G, data=False):\n",
    "    #print(line)"
   ]
  },
  {
   "cell_type": "markdown",
   "metadata": {},
   "source": [
    "The above cell is how to generate an edge list. I am unsure how to do just the first 10."
   ]
  },
  {
   "cell_type": "code",
   "execution_count": 257,
   "metadata": {
    "collapsed": false
   },
   "outputs": [
    {
     "data": {
      "text/plain": [
       "<generator object connected_components at 0x7fa205ff85a0>"
      ]
     },
     "execution_count": 257,
     "metadata": {},
     "output_type": "execute_result"
    }
   ],
   "source": [
    "nx.connected_components(G) #Connected nodes"
   ]
  },
  {
   "cell_type": "code",
   "execution_count": 26,
   "metadata": {
    "collapsed": false
   },
   "outputs": [],
   "source": [
    "degrees = nx.degree_centrality(G) #Degrees of nodes"
   ]
  },
  {
   "cell_type": "code",
   "execution_count": 27,
   "metadata": {
    "collapsed": false
   },
   "outputs": [],
   "source": [
    "closeness = nx.closeness_centrality(G) #Closeness of nodes"
   ]
  },
  {
   "cell_type": "code",
   "execution_count": 28,
   "metadata": {
    "collapsed": false
   },
   "outputs": [],
   "source": [
    "betweeness = nx.betweenness_centrality(G) #Betweenness for nodes"
   ]
  },
  {
   "cell_type": "code",
   "execution_count": 258,
   "metadata": {
    "collapsed": false
   },
   "outputs": [],
   "source": [
    "#betweeness"
   ]
  },
  {
   "cell_type": "code",
   "execution_count": 30,
   "metadata": {
    "collapsed": false
   },
   "outputs": [],
   "source": [
    "clustering = nx.clustering(G) #Clustering of nodes"
   ]
  },
  {
   "cell_type": "code",
   "execution_count": 259,
   "metadata": {
    "collapsed": false
   },
   "outputs": [],
   "source": [
    "#clustering"
   ]
  },
  {
   "cell_type": "code",
   "execution_count": 344,
   "metadata": {
    "collapsed": false
   },
   "outputs": [
    {
     "name": "stdout",
     "output_type": "stream",
     "text": [
      "(11735, 2)\n"
     ]
    }
   ],
   "source": [
    "degdf = pd.DataFrame()\n",
    "degdf[\"Gvkey\"] = degrees.keys()\n",
    "degdf[\"degree\"] = [x[1] for x in list(G.degree())]\n",
    "print(degdf.shape)\n",
    "subgraphdf = degdf.sort_values(by=\"degree\",ascending=False)[:1153].dropna()"
   ]
  },
  {
   "cell_type": "code",
   "execution_count": 177,
   "metadata": {
    "collapsed": false
   },
   "outputs": [],
   "source": [
    "companylist = supplierinfo\n",
    "companylist = companylist.rename(index=str, columns={\"SupplierGvkey\": \"Gvkey\",\"CompanyName\":\"Company_Name\"})\n",
    "clist = customerinfo\n",
    "clist = clist.rename(index=str, columns={'CustomerGvkey': \"Gvkey\",\"CurrentCompanyName\":\"Company_Name\"})\n",
    "companylist = companylist.append(clist)"
   ]
  },
  {
   "cell_type": "code",
   "execution_count": 180,
   "metadata": {
    "collapsed": true
   },
   "outputs": [],
   "source": [
    "companylist = companylist.drop_duplicates()"
   ]
  },
  {
   "cell_type": "code",
   "execution_count": 347,
   "metadata": {
    "collapsed": false
   },
   "outputs": [],
   "source": [
    "subgraphdf = subgraphdf.reset_index().drop([\"index\"],axis=1)\n",
    "companylist = companylist.reset_index().drop([\"index\"],axis=1)"
   ]
  },
  {
   "cell_type": "code",
   "execution_count": 309,
   "metadata": {
    "collapsed": false
   },
   "outputs": [
    {
     "name": "stdout",
     "output_type": "stream",
     "text": [
      "      nodeid  degree  Clustering  Betweeness  Closeness Company_Name\n",
      "7655   25747     570    0.000000    0.000076   0.226684         None\n",
      "2547    6100     453    0.036364    0.000185   0.242023         None\n",
      "2100    5091     416    0.666667    0.000003   0.231981         None\n",
      "510     1585     382    0.000000    0.000847   0.228509         None\n",
      "1992    4856     333    0.000000    0.000163   0.151751         None\n",
      "2646    6331     325    0.133333    0.000104   0.221431         None\n",
      "2085    5061     275    0.000000    0.000000   0.226756         None\n",
      "4157    9570     228    0.000000    0.000049   0.215787         None\n",
      "3246    7609     221    0.000000    0.000000   0.191688         None\n",
      "2333    5626     211    0.000000    0.000000   0.168071         None\n"
     ]
    }
   ],
   "source": [
    "print(subgraphdf[:10])"
   ]
  },
  {
   "cell_type": "code",
   "execution_count": 345,
   "metadata": {
    "collapsed": true
   },
   "outputs": [],
   "source": [
    "subgraphdf[\"Clustering\"] = 0\n",
    "subgraphdf[\"Betweeness\"] = 0\n",
    "subgraphdf[\"Closeness\"] = 0"
   ]
  },
  {
   "cell_type": "code",
   "execution_count": 346,
   "metadata": {
    "collapsed": false
   },
   "outputs": [],
   "source": [
    "for i in subgraphdf.index:\n",
    "    subgraphdf.loc[i, 'Clustering'] = clustering[subgraphdf[\"Gvkey\"][i]]\n",
    "    subgraphdf.loc[i, 'Betweeness'] = betweeness[subgraphdf[\"Gvkey\"][i]]\n",
    "    subgraphdf.loc[i, 'Closeness'] = closeness[subgraphdf[\"Gvkey\"][i]]"
   ]
  },
  {
   "cell_type": "code",
   "execution_count": 335,
   "metadata": {
    "collapsed": false
   },
   "outputs": [
    {
     "name": "stdout",
     "output_type": "stream",
     "text": [
      "   Gvkey  degree  Clustering  Betweeness  Closeness Company_Name\n",
      "0  25747     570    0.000000    0.000076   0.226684         None\n",
      "1   6100     453    0.036364    0.000185   0.242023         None\n",
      "2   5091     416    0.666667    0.000003   0.231981         None\n",
      "3   1585     382    0.000000    0.000847   0.228509         None\n",
      "4   4856     333    0.000000    0.000163   0.151751         None\n",
      "5   6331     325    0.133333    0.000104   0.221431         None\n",
      "6   5061     275    0.000000    0.000000   0.226756         None\n",
      "7   9570     228    0.000000    0.000049   0.215787         None\n",
      "8   7609     221    0.000000    0.000000   0.191688         None\n",
      "9   5626     211    0.000000    0.000000   0.168071         None\n",
      "   Gvkey                Company_Name\n",
      "0   1005       A.B.A. INDUSTRIES INC\n",
      "1   1009          ABS INDUSTRIES INC\n",
      "2   1012          ACS INDUSTRIES INC\n",
      "3   1013  ADC TELECOMMUNICATIONS INC\n",
      "4   1021            AFP IMAGING CORP\n",
      "5   1023           AGS COMPUTERS INC\n",
      "6   1028          AIM TELEPHONES INC\n",
      "7   1032               AKF FOODS INC\n",
      "8   1037       AM COMMUNICATIONS INC\n",
      "9   1039           AMC INVESTORS INC\n"
     ]
    }
   ],
   "source": [
    "print(subgraphdf[0:10])\n",
    "print(companylist[0:10])"
   ]
  },
  {
   "cell_type": "code",
   "execution_count": 348,
   "metadata": {
    "collapsed": false
   },
   "outputs": [],
   "source": [
    "subgraphdf_names = pd.merge(subgraphdf,companylist, left_on=\"Gvkey\", right_on=\"Gvkey\")"
   ]
  },
  {
   "cell_type": "code",
   "execution_count": 350,
   "metadata": {
    "collapsed": false
   },
   "outputs": [
    {
     "data": {
      "text/html": [
       "<div>\n",
       "<table border=\"1\" class=\"dataframe\">\n",
       "  <thead>\n",
       "    <tr style=\"text-align: right;\">\n",
       "      <th></th>\n",
       "      <th>Gvkey</th>\n",
       "      <th>degree</th>\n",
       "      <th>Clustering</th>\n",
       "      <th>Betweeness</th>\n",
       "      <th>Closeness</th>\n",
       "      <th>Company_Name</th>\n",
       "    </tr>\n",
       "  </thead>\n",
       "  <tbody>\n",
       "    <tr>\n",
       "      <th>0</th>\n",
       "      <td>25747</td>\n",
       "      <td>570</td>\n",
       "      <td>0.000000</td>\n",
       "      <td>7.643913e-05</td>\n",
       "      <td>0.226684</td>\n",
       "      <td>LITTELFUSE INC</td>\n",
       "    </tr>\n",
       "    <tr>\n",
       "      <th>1</th>\n",
       "      <td>6100</td>\n",
       "      <td>453</td>\n",
       "      <td>0.036364</td>\n",
       "      <td>1.852795e-04</td>\n",
       "      <td>0.242023</td>\n",
       "      <td>INTERDIGITAL INC</td>\n",
       "    </tr>\n",
       "    <tr>\n",
       "      <th>2</th>\n",
       "      <td>5091</td>\n",
       "      <td>416</td>\n",
       "      <td>0.666667</td>\n",
       "      <td>2.992381e-06</td>\n",
       "      <td>0.231981</td>\n",
       "      <td>VERIZON INC/FL</td>\n",
       "    </tr>\n",
       "    <tr>\n",
       "      <th>3</th>\n",
       "      <td>1585</td>\n",
       "      <td>382</td>\n",
       "      <td>0.000000</td>\n",
       "      <td>8.466678e-04</td>\n",
       "      <td>0.228509</td>\n",
       "      <td>AMERICAN VANGUARD CORP</td>\n",
       "    </tr>\n",
       "    <tr>\n",
       "      <th>4</th>\n",
       "      <td>4856</td>\n",
       "      <td>333</td>\n",
       "      <td>0.000000</td>\n",
       "      <td>1.627746e-04</td>\n",
       "      <td>0.151751</td>\n",
       "      <td>FORUM GROUP INC</td>\n",
       "    </tr>\n",
       "    <tr>\n",
       "      <th>5</th>\n",
       "      <td>6331</td>\n",
       "      <td>325</td>\n",
       "      <td>0.133333</td>\n",
       "      <td>1.043273e-04</td>\n",
       "      <td>0.221431</td>\n",
       "      <td>FURMANITE CORP</td>\n",
       "    </tr>\n",
       "    <tr>\n",
       "      <th>6</th>\n",
       "      <td>5061</td>\n",
       "      <td>275</td>\n",
       "      <td>0.000000</td>\n",
       "      <td>0.000000e+00</td>\n",
       "      <td>0.226756</td>\n",
       "      <td>GENERAL HOUSEWARES</td>\n",
       "    </tr>\n",
       "    <tr>\n",
       "      <th>7</th>\n",
       "      <td>9570</td>\n",
       "      <td>228</td>\n",
       "      <td>0.000000</td>\n",
       "      <td>4.878629e-05</td>\n",
       "      <td>0.215787</td>\n",
       "      <td>ABC DISPENSING TECHNOLOGIES</td>\n",
       "    </tr>\n",
       "    <tr>\n",
       "      <th>8</th>\n",
       "      <td>7609</td>\n",
       "      <td>221</td>\n",
       "      <td>0.000000</td>\n",
       "      <td>0.000000e+00</td>\n",
       "      <td>0.191688</td>\n",
       "      <td>MULTIMEDIA INC</td>\n",
       "    </tr>\n",
       "    <tr>\n",
       "      <th>9</th>\n",
       "      <td>5626</td>\n",
       "      <td>211</td>\n",
       "      <td>0.000000</td>\n",
       "      <td>0.000000e+00</td>\n",
       "      <td>0.168071</td>\n",
       "      <td>HIGH PLAINS CORP</td>\n",
       "    </tr>\n",
       "    <tr>\n",
       "      <th>10</th>\n",
       "      <td>8456</td>\n",
       "      <td>188</td>\n",
       "      <td>0.000000</td>\n",
       "      <td>1.194939e-06</td>\n",
       "      <td>0.165965</td>\n",
       "      <td>PENNSYLVANIA POWER CO</td>\n",
       "    </tr>\n",
       "    <tr>\n",
       "      <th>11</th>\n",
       "      <td>3026</td>\n",
       "      <td>186</td>\n",
       "      <td>0.000000</td>\n",
       "      <td>1.573891e-04</td>\n",
       "      <td>0.235395</td>\n",
       "      <td>CHURCH &amp; DWIGHT INC</td>\n",
       "    </tr>\n",
       "    <tr>\n",
       "      <th>12</th>\n",
       "      <td>3048</td>\n",
       "      <td>182</td>\n",
       "      <td>0.010989</td>\n",
       "      <td>1.061742e-03</td>\n",
       "      <td>0.247841</td>\n",
       "      <td>CIPRICO INC</td>\n",
       "    </tr>\n",
       "    <tr>\n",
       "      <th>13</th>\n",
       "      <td>3840</td>\n",
       "      <td>174</td>\n",
       "      <td>0.000000</td>\n",
       "      <td>9.513405e-05</td>\n",
       "      <td>0.233693</td>\n",
       "      <td>DEL LABORATORIES INC</td>\n",
       "    </tr>\n",
       "    <tr>\n",
       "      <th>14</th>\n",
       "      <td>7194</td>\n",
       "      <td>158</td>\n",
       "      <td>0.000000</td>\n",
       "      <td>3.321527e-04</td>\n",
       "      <td>0.193452</td>\n",
       "      <td>MEDCO GROUP INC</td>\n",
       "    </tr>\n",
       "    <tr>\n",
       "      <th>15</th>\n",
       "      <td>63925</td>\n",
       "      <td>157</td>\n",
       "      <td>0.000000</td>\n",
       "      <td>0.000000e+00</td>\n",
       "      <td>0.202439</td>\n",
       "      <td>RIDGEVIEW INC</td>\n",
       "    </tr>\n",
       "    <tr>\n",
       "      <th>16</th>\n",
       "      <td>297209</td>\n",
       "      <td>155</td>\n",
       "      <td>0.000000</td>\n",
       "      <td>7.938239e-06</td>\n",
       "      <td>0.213864</td>\n",
       "      <td>PACIFIC DRILLING SA</td>\n",
       "    </tr>\n",
       "    <tr>\n",
       "      <th>17</th>\n",
       "      <td>11010</td>\n",
       "      <td>152</td>\n",
       "      <td>0.000000</td>\n",
       "      <td>4.266590e-04</td>\n",
       "      <td>0.201787</td>\n",
       "      <td>CANARGO ENERGY CORP</td>\n",
       "    </tr>\n",
       "    <tr>\n",
       "      <th>18</th>\n",
       "      <td>183257</td>\n",
       "      <td>151</td>\n",
       "      <td>0.000000</td>\n",
       "      <td>2.276377e-05</td>\n",
       "      <td>0.217348</td>\n",
       "      <td>CAREFUSION CORP</td>\n",
       "    </tr>\n",
       "    <tr>\n",
       "      <th>19</th>\n",
       "      <td>8559</td>\n",
       "      <td>150</td>\n",
       "      <td>0.000000</td>\n",
       "      <td>9.654424e-07</td>\n",
       "      <td>0.199280</td>\n",
       "      <td>PHOTO CONTROL CORP</td>\n",
       "    </tr>\n",
       "    <tr>\n",
       "      <th>20</th>\n",
       "      <td>2420</td>\n",
       "      <td>141</td>\n",
       "      <td>0.000000</td>\n",
       "      <td>0.000000e+00</td>\n",
       "      <td>0.207286</td>\n",
       "      <td>BRODY (B.) SEATING CO</td>\n",
       "    </tr>\n",
       "    <tr>\n",
       "      <th>21</th>\n",
       "      <td>2784</td>\n",
       "      <td>140</td>\n",
       "      <td>0.333333</td>\n",
       "      <td>2.358807e-05</td>\n",
       "      <td>0.229228</td>\n",
       "      <td>CAROLINA TELEPHONE &amp; TELEG</td>\n",
       "    </tr>\n",
       "    <tr>\n",
       "      <th>22</th>\n",
       "      <td>12403</td>\n",
       "      <td>139</td>\n",
       "      <td>0.000000</td>\n",
       "      <td>0.000000e+00</td>\n",
       "      <td>0.183627</td>\n",
       "      <td>FREDS INC</td>\n",
       "    </tr>\n",
       "    <tr>\n",
       "      <th>23</th>\n",
       "      <td>137874</td>\n",
       "      <td>138</td>\n",
       "      <td>0.000000</td>\n",
       "      <td>1.243945e-05</td>\n",
       "      <td>0.228255</td>\n",
       "      <td>SMTC CORP</td>\n",
       "    </tr>\n",
       "    <tr>\n",
       "      <th>24</th>\n",
       "      <td>2147</td>\n",
       "      <td>130</td>\n",
       "      <td>0.000000</td>\n",
       "      <td>1.306585e-05</td>\n",
       "      <td>0.192981</td>\n",
       "      <td>BELLWETHER EXPLORATION-OLD</td>\n",
       "    </tr>\n",
       "    <tr>\n",
       "      <th>25</th>\n",
       "      <td>4545</td>\n",
       "      <td>130</td>\n",
       "      <td>0.000000</td>\n",
       "      <td>8.821189e-05</td>\n",
       "      <td>0.235467</td>\n",
       "      <td>FAIRCHILD INDUSTRIES INC</td>\n",
       "    </tr>\n",
       "    <tr>\n",
       "      <th>26</th>\n",
       "      <td>8543</td>\n",
       "      <td>129</td>\n",
       "      <td>0.002016</td>\n",
       "      <td>4.042879e-03</td>\n",
       "      <td>0.252168</td>\n",
       "      <td>ALTRIA GROUP INC</td>\n",
       "    </tr>\n",
       "    <tr>\n",
       "      <th>27</th>\n",
       "      <td>5709</td>\n",
       "      <td>128</td>\n",
       "      <td>0.000000</td>\n",
       "      <td>3.635654e-05</td>\n",
       "      <td>0.230304</td>\n",
       "      <td>HORMEL FOODS CORP</td>\n",
       "    </tr>\n",
       "    <tr>\n",
       "      <th>28</th>\n",
       "      <td>6026</td>\n",
       "      <td>128</td>\n",
       "      <td>0.000000</td>\n",
       "      <td>0.000000e+00</td>\n",
       "      <td>0.225243</td>\n",
       "      <td>INTERCOLE INC</td>\n",
       "    </tr>\n",
       "    <tr>\n",
       "      <th>29</th>\n",
       "      <td>9909</td>\n",
       "      <td>124</td>\n",
       "      <td>0.000000</td>\n",
       "      <td>6.724059e-06</td>\n",
       "      <td>0.216333</td>\n",
       "      <td>SOVEREIGN CHEMICAL &amp; PETE PD</td>\n",
       "    </tr>\n",
       "    <tr>\n",
       "      <th>...</th>\n",
       "      <td>...</td>\n",
       "      <td>...</td>\n",
       "      <td>...</td>\n",
       "      <td>...</td>\n",
       "      <td>...</td>\n",
       "      <td>...</td>\n",
       "    </tr>\n",
       "    <tr>\n",
       "      <th>1123</th>\n",
       "      <td>66393</td>\n",
       "      <td>10</td>\n",
       "      <td>0.022222</td>\n",
       "      <td>4.769078e-04</td>\n",
       "      <td>0.247904</td>\n",
       "      <td>MERCURY SYSTEMS INC</td>\n",
       "    </tr>\n",
       "    <tr>\n",
       "      <th>1124</th>\n",
       "      <td>145350</td>\n",
       "      <td>10</td>\n",
       "      <td>0.000000</td>\n",
       "      <td>0.000000e+00</td>\n",
       "      <td>0.188574</td>\n",
       "      <td>CENTERPOINT ENERGY RES CORP</td>\n",
       "    </tr>\n",
       "    <tr>\n",
       "      <th>1125</th>\n",
       "      <td>11031</td>\n",
       "      <td>10</td>\n",
       "      <td>0.000000</td>\n",
       "      <td>0.000000e+00</td>\n",
       "      <td>0.000085</td>\n",
       "      <td>UNIVERSAL INTL INC</td>\n",
       "    </tr>\n",
       "    <tr>\n",
       "      <th>1126</th>\n",
       "      <td>28477</td>\n",
       "      <td>10</td>\n",
       "      <td>0.000000</td>\n",
       "      <td>0.000000e+00</td>\n",
       "      <td>0.193901</td>\n",
       "      <td>FLIR SYSTEMS INC</td>\n",
       "    </tr>\n",
       "    <tr>\n",
       "      <th>1127</th>\n",
       "      <td>29390</td>\n",
       "      <td>10</td>\n",
       "      <td>0.200000</td>\n",
       "      <td>1.458708e-04</td>\n",
       "      <td>0.224304</td>\n",
       "      <td>SANGSTAT MEDICAL CORP</td>\n",
       "    </tr>\n",
       "    <tr>\n",
       "      <th>1128</th>\n",
       "      <td>21138</td>\n",
       "      <td>10</td>\n",
       "      <td>0.000000</td>\n",
       "      <td>0.000000e+00</td>\n",
       "      <td>0.198567</td>\n",
       "      <td>RIGHTSIDE GROUP LTD</td>\n",
       "    </tr>\n",
       "    <tr>\n",
       "      <th>1129</th>\n",
       "      <td>29659</td>\n",
       "      <td>10</td>\n",
       "      <td>0.000000</td>\n",
       "      <td>1.923938e-04</td>\n",
       "      <td>0.223163</td>\n",
       "      <td>DIGITAL LINK CORP</td>\n",
       "    </tr>\n",
       "    <tr>\n",
       "      <th>1130</th>\n",
       "      <td>2375</td>\n",
       "      <td>10</td>\n",
       "      <td>0.000000</td>\n",
       "      <td>2.618857e-04</td>\n",
       "      <td>0.228875</td>\n",
       "      <td>BRENCO INC</td>\n",
       "    </tr>\n",
       "    <tr>\n",
       "      <th>1131</th>\n",
       "      <td>2615</td>\n",
       "      <td>10</td>\n",
       "      <td>0.200000</td>\n",
       "      <td>2.159644e-05</td>\n",
       "      <td>0.218434</td>\n",
       "      <td>CALAMP CORP</td>\n",
       "    </tr>\n",
       "    <tr>\n",
       "      <th>1132</th>\n",
       "      <td>1762</td>\n",
       "      <td>10</td>\n",
       "      <td>0.000000</td>\n",
       "      <td>1.363651e-04</td>\n",
       "      <td>0.216079</td>\n",
       "      <td>ARMSTRONG HOLDINGS INC</td>\n",
       "    </tr>\n",
       "    <tr>\n",
       "      <th>1133</th>\n",
       "      <td>163595</td>\n",
       "      <td>10</td>\n",
       "      <td>0.000000</td>\n",
       "      <td>1.394050e-05</td>\n",
       "      <td>0.215357</td>\n",
       "      <td>PACIFIC ETHANOL INC</td>\n",
       "    </tr>\n",
       "    <tr>\n",
       "      <th>1134</th>\n",
       "      <td>1901</td>\n",
       "      <td>10</td>\n",
       "      <td>0.000000</td>\n",
       "      <td>1.153390e-04</td>\n",
       "      <td>0.226603</td>\n",
       "      <td>AUXTON COMPUTER ENTERPRISES</td>\n",
       "    </tr>\n",
       "    <tr>\n",
       "      <th>1135</th>\n",
       "      <td>64950</td>\n",
       "      <td>10</td>\n",
       "      <td>0.000000</td>\n",
       "      <td>0.000000e+00</td>\n",
       "      <td>0.176953</td>\n",
       "      <td>GREAT PLAINS SOFTWARE INC</td>\n",
       "    </tr>\n",
       "    <tr>\n",
       "      <th>1136</th>\n",
       "      <td>112301</td>\n",
       "      <td>10</td>\n",
       "      <td>0.000000</td>\n",
       "      <td>0.000000e+00</td>\n",
       "      <td>0.153410</td>\n",
       "      <td>E SIM LTD</td>\n",
       "    </tr>\n",
       "    <tr>\n",
       "      <th>1137</th>\n",
       "      <td>24733</td>\n",
       "      <td>10</td>\n",
       "      <td>0.000000</td>\n",
       "      <td>0.000000e+00</td>\n",
       "      <td>0.225504</td>\n",
       "      <td>CAYENNE SOFTWARE INC</td>\n",
       "    </tr>\n",
       "    <tr>\n",
       "      <th>1138</th>\n",
       "      <td>10665</td>\n",
       "      <td>10</td>\n",
       "      <td>0.000000</td>\n",
       "      <td>2.305618e-04</td>\n",
       "      <td>0.186777</td>\n",
       "      <td>TRANS WORLD AIRLINES</td>\n",
       "    </tr>\n",
       "    <tr>\n",
       "      <th>1139</th>\n",
       "      <td>65578</td>\n",
       "      <td>10</td>\n",
       "      <td>0.000000</td>\n",
       "      <td>0.000000e+00</td>\n",
       "      <td>0.169945</td>\n",
       "      <td>CORIXA CORP</td>\n",
       "    </tr>\n",
       "    <tr>\n",
       "      <th>1140</th>\n",
       "      <td>13155</td>\n",
       "      <td>10</td>\n",
       "      <td>0.000000</td>\n",
       "      <td>2.375436e-05</td>\n",
       "      <td>0.230453</td>\n",
       "      <td>MARGO CARIBE INC</td>\n",
       "    </tr>\n",
       "    <tr>\n",
       "      <th>1141</th>\n",
       "      <td>9903</td>\n",
       "      <td>10</td>\n",
       "      <td>0.000000</td>\n",
       "      <td>5.252988e-06</td>\n",
       "      <td>0.171668</td>\n",
       "      <td>SOUTHWESTERN ELEC SERVICE</td>\n",
       "    </tr>\n",
       "    <tr>\n",
       "      <th>1142</th>\n",
       "      <td>9225</td>\n",
       "      <td>10</td>\n",
       "      <td>0.000000</td>\n",
       "      <td>0.000000e+00</td>\n",
       "      <td>0.152518</td>\n",
       "      <td>ROLLINS INC</td>\n",
       "    </tr>\n",
       "    <tr>\n",
       "      <th>1143</th>\n",
       "      <td>1693</td>\n",
       "      <td>10</td>\n",
       "      <td>0.000000</td>\n",
       "      <td>0.000000e+00</td>\n",
       "      <td>0.185885</td>\n",
       "      <td>APPLIED BIOSYSTEMS INC -OLD</td>\n",
       "    </tr>\n",
       "    <tr>\n",
       "      <th>1144</th>\n",
       "      <td>2639</td>\n",
       "      <td>10</td>\n",
       "      <td>0.000000</td>\n",
       "      <td>1.900983e-04</td>\n",
       "      <td>0.166393</td>\n",
       "      <td>CALUMET INDUSTRIES INC</td>\n",
       "    </tr>\n",
       "    <tr>\n",
       "      <th>1145</th>\n",
       "      <td>60797</td>\n",
       "      <td>10</td>\n",
       "      <td>0.000000</td>\n",
       "      <td>5.631494e-06</td>\n",
       "      <td>0.209703</td>\n",
       "      <td>AVANT CORP</td>\n",
       "    </tr>\n",
       "    <tr>\n",
       "      <th>1146</th>\n",
       "      <td>1281</td>\n",
       "      <td>10</td>\n",
       "      <td>0.087912</td>\n",
       "      <td>2.491687e-03</td>\n",
       "      <td>0.261318</td>\n",
       "      <td>ALLEN TELECOM INC</td>\n",
       "    </tr>\n",
       "    <tr>\n",
       "      <th>1147</th>\n",
       "      <td>1286</td>\n",
       "      <td>10</td>\n",
       "      <td>0.000000</td>\n",
       "      <td>0.000000e+00</td>\n",
       "      <td>0.195024</td>\n",
       "      <td>ALLIANCE NORTHWEST INDS INC</td>\n",
       "    </tr>\n",
       "    <tr>\n",
       "      <th>1148</th>\n",
       "      <td>113490</td>\n",
       "      <td>10</td>\n",
       "      <td>0.087912</td>\n",
       "      <td>1.253900e-04</td>\n",
       "      <td>0.228631</td>\n",
       "      <td>CROWN CASTLE INTL CORP</td>\n",
       "    </tr>\n",
       "    <tr>\n",
       "      <th>1149</th>\n",
       "      <td>9906</td>\n",
       "      <td>10</td>\n",
       "      <td>0.000000</td>\n",
       "      <td>5.419168e-05</td>\n",
       "      <td>0.210110</td>\n",
       "      <td>SOUTHWESTERN PUBLIC SVC CO</td>\n",
       "    </tr>\n",
       "    <tr>\n",
       "      <th>1150</th>\n",
       "      <td>211897</td>\n",
       "      <td>10</td>\n",
       "      <td>0.000000</td>\n",
       "      <td>0.000000e+00</td>\n",
       "      <td>0.159447</td>\n",
       "      <td>ACAMBIS PLC</td>\n",
       "    </tr>\n",
       "    <tr>\n",
       "      <th>1151</th>\n",
       "      <td>2263</td>\n",
       "      <td>10</td>\n",
       "      <td>0.000000</td>\n",
       "      <td>2.174506e-03</td>\n",
       "      <td>0.238665</td>\n",
       "      <td>BLAIR (JOHN) &amp; CO</td>\n",
       "    </tr>\n",
       "    <tr>\n",
       "      <th>1152</th>\n",
       "      <td>165740</td>\n",
       "      <td>10</td>\n",
       "      <td>0.000000</td>\n",
       "      <td>0.000000e+00</td>\n",
       "      <td>0.179253</td>\n",
       "      <td>PIXELPLUS CO LTD</td>\n",
       "    </tr>\n",
       "  </tbody>\n",
       "</table>\n",
       "<p>1153 rows × 6 columns</p>\n",
       "</div>"
      ],
      "text/plain": [
       "       Gvkey  degree  Clustering    Betweeness  Closeness  \\\n",
       "0      25747     570    0.000000  7.643913e-05   0.226684   \n",
       "1       6100     453    0.036364  1.852795e-04   0.242023   \n",
       "2       5091     416    0.666667  2.992381e-06   0.231981   \n",
       "3       1585     382    0.000000  8.466678e-04   0.228509   \n",
       "4       4856     333    0.000000  1.627746e-04   0.151751   \n",
       "5       6331     325    0.133333  1.043273e-04   0.221431   \n",
       "6       5061     275    0.000000  0.000000e+00   0.226756   \n",
       "7       9570     228    0.000000  4.878629e-05   0.215787   \n",
       "8       7609     221    0.000000  0.000000e+00   0.191688   \n",
       "9       5626     211    0.000000  0.000000e+00   0.168071   \n",
       "10      8456     188    0.000000  1.194939e-06   0.165965   \n",
       "11      3026     186    0.000000  1.573891e-04   0.235395   \n",
       "12      3048     182    0.010989  1.061742e-03   0.247841   \n",
       "13      3840     174    0.000000  9.513405e-05   0.233693   \n",
       "14      7194     158    0.000000  3.321527e-04   0.193452   \n",
       "15     63925     157    0.000000  0.000000e+00   0.202439   \n",
       "16    297209     155    0.000000  7.938239e-06   0.213864   \n",
       "17     11010     152    0.000000  4.266590e-04   0.201787   \n",
       "18    183257     151    0.000000  2.276377e-05   0.217348   \n",
       "19      8559     150    0.000000  9.654424e-07   0.199280   \n",
       "20      2420     141    0.000000  0.000000e+00   0.207286   \n",
       "21      2784     140    0.333333  2.358807e-05   0.229228   \n",
       "22     12403     139    0.000000  0.000000e+00   0.183627   \n",
       "23    137874     138    0.000000  1.243945e-05   0.228255   \n",
       "24      2147     130    0.000000  1.306585e-05   0.192981   \n",
       "25      4545     130    0.000000  8.821189e-05   0.235467   \n",
       "26      8543     129    0.002016  4.042879e-03   0.252168   \n",
       "27      5709     128    0.000000  3.635654e-05   0.230304   \n",
       "28      6026     128    0.000000  0.000000e+00   0.225243   \n",
       "29      9909     124    0.000000  6.724059e-06   0.216333   \n",
       "...      ...     ...         ...           ...        ...   \n",
       "1123   66393      10    0.022222  4.769078e-04   0.247904   \n",
       "1124  145350      10    0.000000  0.000000e+00   0.188574   \n",
       "1125   11031      10    0.000000  0.000000e+00   0.000085   \n",
       "1126   28477      10    0.000000  0.000000e+00   0.193901   \n",
       "1127   29390      10    0.200000  1.458708e-04   0.224304   \n",
       "1128   21138      10    0.000000  0.000000e+00   0.198567   \n",
       "1129   29659      10    0.000000  1.923938e-04   0.223163   \n",
       "1130    2375      10    0.000000  2.618857e-04   0.228875   \n",
       "1131    2615      10    0.200000  2.159644e-05   0.218434   \n",
       "1132    1762      10    0.000000  1.363651e-04   0.216079   \n",
       "1133  163595      10    0.000000  1.394050e-05   0.215357   \n",
       "1134    1901      10    0.000000  1.153390e-04   0.226603   \n",
       "1135   64950      10    0.000000  0.000000e+00   0.176953   \n",
       "1136  112301      10    0.000000  0.000000e+00   0.153410   \n",
       "1137   24733      10    0.000000  0.000000e+00   0.225504   \n",
       "1138   10665      10    0.000000  2.305618e-04   0.186777   \n",
       "1139   65578      10    0.000000  0.000000e+00   0.169945   \n",
       "1140   13155      10    0.000000  2.375436e-05   0.230453   \n",
       "1141    9903      10    0.000000  5.252988e-06   0.171668   \n",
       "1142    9225      10    0.000000  0.000000e+00   0.152518   \n",
       "1143    1693      10    0.000000  0.000000e+00   0.185885   \n",
       "1144    2639      10    0.000000  1.900983e-04   0.166393   \n",
       "1145   60797      10    0.000000  5.631494e-06   0.209703   \n",
       "1146    1281      10    0.087912  2.491687e-03   0.261318   \n",
       "1147    1286      10    0.000000  0.000000e+00   0.195024   \n",
       "1148  113490      10    0.087912  1.253900e-04   0.228631   \n",
       "1149    9906      10    0.000000  5.419168e-05   0.210110   \n",
       "1150  211897      10    0.000000  0.000000e+00   0.159447   \n",
       "1151    2263      10    0.000000  2.174506e-03   0.238665   \n",
       "1152  165740      10    0.000000  0.000000e+00   0.179253   \n",
       "\n",
       "                      Company_Name  \n",
       "0                   LITTELFUSE INC  \n",
       "1                 INTERDIGITAL INC  \n",
       "2                   VERIZON INC/FL  \n",
       "3           AMERICAN VANGUARD CORP  \n",
       "4                  FORUM GROUP INC  \n",
       "5                   FURMANITE CORP  \n",
       "6               GENERAL HOUSEWARES  \n",
       "7      ABC DISPENSING TECHNOLOGIES  \n",
       "8                   MULTIMEDIA INC  \n",
       "9                 HIGH PLAINS CORP  \n",
       "10           PENNSYLVANIA POWER CO  \n",
       "11             CHURCH & DWIGHT INC  \n",
       "12                     CIPRICO INC  \n",
       "13            DEL LABORATORIES INC  \n",
       "14                 MEDCO GROUP INC  \n",
       "15                   RIDGEVIEW INC  \n",
       "16             PACIFIC DRILLING SA  \n",
       "17             CANARGO ENERGY CORP  \n",
       "18                 CAREFUSION CORP  \n",
       "19              PHOTO CONTROL CORP  \n",
       "20           BRODY (B.) SEATING CO  \n",
       "21      CAROLINA TELEPHONE & TELEG  \n",
       "22                       FREDS INC  \n",
       "23                       SMTC CORP  \n",
       "24      BELLWETHER EXPLORATION-OLD  \n",
       "25        FAIRCHILD INDUSTRIES INC  \n",
       "26                ALTRIA GROUP INC  \n",
       "27               HORMEL FOODS CORP  \n",
       "28                   INTERCOLE INC  \n",
       "29    SOVEREIGN CHEMICAL & PETE PD  \n",
       "...                            ...  \n",
       "1123           MERCURY SYSTEMS INC  \n",
       "1124   CENTERPOINT ENERGY RES CORP  \n",
       "1125            UNIVERSAL INTL INC  \n",
       "1126              FLIR SYSTEMS INC  \n",
       "1127         SANGSTAT MEDICAL CORP  \n",
       "1128           RIGHTSIDE GROUP LTD  \n",
       "1129             DIGITAL LINK CORP  \n",
       "1130                    BRENCO INC  \n",
       "1131                   CALAMP CORP  \n",
       "1132        ARMSTRONG HOLDINGS INC  \n",
       "1133           PACIFIC ETHANOL INC  \n",
       "1134   AUXTON COMPUTER ENTERPRISES  \n",
       "1135     GREAT PLAINS SOFTWARE INC  \n",
       "1136                     E SIM LTD  \n",
       "1137          CAYENNE SOFTWARE INC  \n",
       "1138          TRANS WORLD AIRLINES  \n",
       "1139                   CORIXA CORP  \n",
       "1140              MARGO CARIBE INC  \n",
       "1141     SOUTHWESTERN ELEC SERVICE  \n",
       "1142                   ROLLINS INC  \n",
       "1143   APPLIED BIOSYSTEMS INC -OLD  \n",
       "1144        CALUMET INDUSTRIES INC  \n",
       "1145                    AVANT CORP  \n",
       "1146             ALLEN TELECOM INC  \n",
       "1147   ALLIANCE NORTHWEST INDS INC  \n",
       "1148        CROWN CASTLE INTL CORP  \n",
       "1149    SOUTHWESTERN PUBLIC SVC CO  \n",
       "1150                   ACAMBIS PLC  \n",
       "1151             BLAIR (JOHN) & CO  \n",
       "1152              PIXELPLUS CO LTD  \n",
       "\n",
       "[1153 rows x 6 columns]"
      ]
     },
     "execution_count": 350,
     "metadata": {},
     "output_type": "execute_result"
    }
   ],
   "source": [
    "subgraphdf_names"
   ]
  },
  {
   "cell_type": "code",
   "execution_count": 110,
   "metadata": {
    "collapsed": false
   },
   "outputs": [],
   "source": [
    "deg_freq = degdf.groupby('degree').count()\n",
    "#plt.plot(deg_freq.index, np.log(deg_freq['nodeid']))\n",
    "deg_freq2 = deg_freq.sort_index(ascending=False)\n",
    "deg_freq2['cumfreq'] = np.cumsum(deg_freq2.nodeid)\n",
    "#deg_freq2.tail(125)"
   ]
  },
  {
   "cell_type": "code",
   "execution_count": null,
   "metadata": {
    "collapsed": true
   },
   "outputs": [],
   "source": []
  }
 ],
 "metadata": {
  "kernelspec": {
   "display_name": "Python 3",
   "language": "python",
   "name": "python3"
  },
  "language_info": {
   "codemirror_mode": {
    "name": "ipython",
    "version": 3
   },
   "file_extension": ".py",
   "mimetype": "text/x-python",
   "name": "python",
   "nbconvert_exporter": "python",
   "pygments_lexer": "ipython3",
   "version": "3.4.3"
  }
 },
 "nbformat": 4,
 "nbformat_minor": 2
}
