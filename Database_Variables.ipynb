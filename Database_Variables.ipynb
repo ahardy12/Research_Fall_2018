{
 "cells": [
  {
   "cell_type": "code",
   "execution_count": 1,
   "metadata": {
    "collapsed": true
   },
   "outputs": [],
   "source": [
    "import numpy as np\n",
    "import pandas as pd\n",
    "import os  \n",
    "import seaborn as sns\n",
    "import matplotlib.pyplot as plt\n",
    "import csv\n",
    "import io\n",
    "import dateutil\n",
    "import collections\n",
    "import time\n",
    "from datetime import datetime\n",
    "import wrds\n",
    "import networkx as nx\n",
    "%matplotlib inline"
   ]
  },
  {
   "cell_type": "markdown",
   "metadata": {},
   "source": [
    "wrds is the package for the Wharton Database. wrds.Connection() connects to the database and is needed for each command"
   ]
  },
  {
   "cell_type": "code",
   "execution_count": 2,
   "metadata": {
    "collapsed": false
   },
   "outputs": [
    {
     "name": "stdout",
     "output_type": "stream",
     "text": [
      "Enter your WRDS username [ahardy12]:ahardy12\n",
      "Enter your password:········\n",
      "WRDS recommends setting up a .pgpass file.\n",
      "You can find more info here:\n",
      "https://www.postgresql.org/docs/9.5/static/libpq-pgpass.html.\n",
      "Loading library list...\n",
      "Done\n"
     ]
    }
   ],
   "source": [
    "db = wrds.Connection()"
   ]
  },
  {
   "cell_type": "markdown",
   "metadata": {},
   "source": [
    "list_libraries() list all libraries that can be connected to from the wrds package in python"
   ]
  },
  {
   "cell_type": "code",
   "execution_count": 3,
   "metadata": {
    "collapsed": false
   },
   "outputs": [
    {
     "data": {
      "text/plain": [
       "['public',\n",
       " 'wrds_lib_internal',\n",
       " 'centris',\n",
       " 'ginsight',\n",
       " 'gsi',\n",
       " 'rent',\n",
       " 'wrdsapps',\n",
       " 'ims_obp_trial',\n",
       " 'ginsight_basic',\n",
       " 'ginsight_common']"
      ]
     },
     "execution_count": 3,
     "metadata": {},
     "output_type": "execute_result"
    }
   ],
   "source": [
    "list_libraries = db.list_libraries()\n",
    "list_libraries[:10]"
   ]
  },
  {
   "cell_type": "markdown",
   "metadata": {},
   "source": [
    "The library needed is comp and the table within that library is funda. This represents the North America Fundamentals Annuals within Compustat Capital IQ."
   ]
  },
  {
   "cell_type": "markdown",
   "metadata": {},
   "source": [
    "Comp.Funda Variables:\n",
    "\n",
    "ACT -- Current Assets - Total        AT -- Assets - Total            BKVLPS -- Book Value Per Share\n",
    "\n",
    "CH -- Cash                           COGS -- Cost of Goods Sold      DVT -- Dividends - Total\n",
    "\n",
    "GDWL -- Goodwill                     IB -- Income Before Extraordinary Items    LT -- Liabilities - Total\n",
    "\n",
    "NI -- Net Income (Loss)              REVT -- Revenue - Total         SALE -- Sales/Turnover (Net)\n",
    "\n",
    "SEQ -- Stockholders' Equity - Total  SIV -- Sale of Investments      SPPE -- Sale of Property\n"
   ]
  },
  {
   "cell_type": "code",
   "execution_count": 101,
   "metadata": {
    "collapsed": false
   },
   "outputs": [],
   "source": [
    "Full_db = db.raw_sql(\"select gvkey,fyear,tic,conm,act,at,bkvlps,ch,cogs,dvt,gdwl,ib,lt,ni,revt,sale,seq,siv,sppe from comp.funda where gvkey='008446' OR gvkey='005073' OR gvkey='009563' OR gvkey='006066' OR gvkey='006307' OR gvkey='006135' OR gvkey='005047' OR gvkey='006765' OR gvkey='004839' OR gvkey='007811' OR gvkey='003022' OR gvkey='001581' OR gvkey='0023978' OR gvkey='007155' OR gvkey='0010983' OR gvkey='001481' OR gvkey='008549' OR gvkey='004961' OR gvkey='0011259' OR gvkey='002285' OR gvkey='0063919' OR gvkey='007585' OR gvkey='005606' OR gvkey='0017828' OR gvkey='0062599' OR gvkey='003282' OR gvkey='005680' OR gvkey='007171' OR gvkey='002751' OR gvkey='0031673' OR gvkey='002136' OR gvkey='009899' OR gvkey='0010984' OR gvkey='003813' OR gvkey='002991' OR gvkey='0012384' OR gvkey='0030067' OR gvkey='0064768' OR gvkey='00125595' OR gvkey='00266315' OR gvkey='0029099' OR gvkey='0015111' OR gvkey='00177943'  LIMIT 1000;\" )"
   ]
  },
  {
   "cell_type": "code",
   "execution_count": 116,
   "metadata": {
    "collapsed": false
   },
   "outputs": [
    {
     "data": {
      "text/html": [
       "<div>\n",
       "<table border=\"1\" class=\"dataframe\">\n",
       "  <thead>\n",
       "    <tr style=\"text-align: right;\">\n",
       "      <th></th>\n",
       "      <th>gvkey</th>\n",
       "      <th>fyear</th>\n",
       "      <th>tic</th>\n",
       "      <th>conm</th>\n",
       "      <th>act</th>\n",
       "      <th>at</th>\n",
       "      <th>bkvlps</th>\n",
       "      <th>ch</th>\n",
       "      <th>cogs</th>\n",
       "      <th>dvt</th>\n",
       "      <th>gdwl</th>\n",
       "      <th>ib</th>\n",
       "      <th>lt</th>\n",
       "      <th>ni</th>\n",
       "      <th>revt</th>\n",
       "      <th>sale</th>\n",
       "      <th>seq</th>\n",
       "      <th>siv</th>\n",
       "      <th>sppe</th>\n",
       "    </tr>\n",
       "  </thead>\n",
       "  <tbody>\n",
       "    <tr>\n",
       "      <th>291</th>\n",
       "      <td>002751</td>\n",
       "      <td>2017.0</td>\n",
       "      <td>CAH</td>\n",
       "      <td>CARDINAL HEALTH INC</td>\n",
       "      <td>28345.0</td>\n",
       "      <td>40112.0</td>\n",
       "      <td>21.5443</td>\n",
       "      <td>6879.0</td>\n",
       "      <td>123130.0</td>\n",
       "      <td>580.0</td>\n",
       "      <td>7221.0</td>\n",
       "      <td>1288.0</td>\n",
       "      <td>33166.0</td>\n",
       "      <td>1288.0</td>\n",
       "      <td>129976.0</td>\n",
       "      <td>129976.0</td>\n",
       "      <td>6808.0</td>\n",
       "      <td>305.0</td>\n",
       "      <td>NaN</td>\n",
       "    </tr>\n",
       "  </tbody>\n",
       "</table>\n",
       "</div>"
      ],
      "text/plain": [
       "      gvkey   fyear  tic                 conm      act       at   bkvlps  \\\n",
       "291  002751  2017.0  CAH  CARDINAL HEALTH INC  28345.0  40112.0  21.5443   \n",
       "\n",
       "         ch      cogs    dvt    gdwl      ib       lt      ni      revt  \\\n",
       "291  6879.0  123130.0  580.0  7221.0  1288.0  33166.0  1288.0  129976.0   \n",
       "\n",
       "         sale     seq    siv  sppe  \n",
       "291  129976.0  6808.0  305.0   NaN  "
      ]
     },
     "execution_count": 116,
     "metadata": {},
     "output_type": "execute_result"
    }
   ],
   "source": [
    "Full_db[291:292]"
   ]
  },
  {
   "cell_type": "code",
   "execution_count": 117,
   "metadata": {
    "collapsed": false
   },
   "outputs": [
    {
     "data": {
      "text/html": [
       "<div>\n",
       "<table border=\"1\" class=\"dataframe\">\n",
       "  <thead>\n",
       "    <tr style=\"text-align: right;\">\n",
       "      <th></th>\n",
       "      <th>gvkey</th>\n",
       "      <th>fyear</th>\n",
       "      <th>tic</th>\n",
       "      <th>conm</th>\n",
       "      <th>act</th>\n",
       "      <th>at</th>\n",
       "      <th>bkvlps</th>\n",
       "      <th>ch</th>\n",
       "      <th>cogs</th>\n",
       "      <th>dvt</th>\n",
       "      <th>gdwl</th>\n",
       "      <th>ib</th>\n",
       "      <th>lt</th>\n",
       "      <th>ni</th>\n",
       "      <th>revt</th>\n",
       "      <th>sale</th>\n",
       "      <th>seq</th>\n",
       "      <th>siv</th>\n",
       "      <th>sppe</th>\n",
       "    </tr>\n",
       "  </thead>\n",
       "  <tbody>\n",
       "    <tr>\n",
       "      <th>401</th>\n",
       "      <td>003022</td>\n",
       "      <td>1971.0</td>\n",
       "      <td>C.3</td>\n",
       "      <td>CHRYSLER CORP</td>\n",
       "      <td>2410.922</td>\n",
       "      <td>4999.719</td>\n",
       "      <td>44.5321</td>\n",
       "      <td>82.925</td>\n",
       "      <td>7041.496</td>\n",
       "      <td>30.104</td>\n",
       "      <td>NaN</td>\n",
       "      <td>83.66</td>\n",
       "      <td>2689.348</td>\n",
       "      <td>83.66</td>\n",
       "      <td>7999.336</td>\n",
       "      <td>7999.336</td>\n",
       "      <td>2268.913</td>\n",
       "      <td>NaN</td>\n",
       "      <td>14.49</td>\n",
       "    </tr>\n",
       "  </tbody>\n",
       "</table>\n",
       "</div>"
      ],
      "text/plain": [
       "      gvkey   fyear  tic           conm       act        at   bkvlps      ch  \\\n",
       "401  003022  1971.0  C.3  CHRYSLER CORP  2410.922  4999.719  44.5321  82.925   \n",
       "\n",
       "         cogs     dvt  gdwl     ib        lt     ni      revt      sale  \\\n",
       "401  7041.496  30.104   NaN  83.66  2689.348  83.66  7999.336  7999.336   \n",
       "\n",
       "          seq  siv   sppe  \n",
       "401  2268.913  NaN  14.49  "
      ]
     },
     "execution_count": 117,
     "metadata": {},
     "output_type": "execute_result"
    }
   ],
   "source": [
    "Full_db[401:402]"
   ]
  },
  {
   "cell_type": "code",
   "execution_count": 121,
   "metadata": {
    "collapsed": false
   },
   "outputs": [
    {
     "data": {
      "text/html": [
       "<div>\n",
       "<table border=\"1\" class=\"dataframe\">\n",
       "  <thead>\n",
       "    <tr style=\"text-align: right;\">\n",
       "      <th></th>\n",
       "      <th>gvkey</th>\n",
       "      <th>fyear</th>\n",
       "      <th>tic</th>\n",
       "      <th>conm</th>\n",
       "      <th>act</th>\n",
       "      <th>at</th>\n",
       "      <th>bkvlps</th>\n",
       "      <th>ch</th>\n",
       "      <th>cogs</th>\n",
       "      <th>dvt</th>\n",
       "      <th>gdwl</th>\n",
       "      <th>ib</th>\n",
       "      <th>lt</th>\n",
       "      <th>ni</th>\n",
       "      <th>revt</th>\n",
       "      <th>sale</th>\n",
       "      <th>seq</th>\n",
       "      <th>siv</th>\n",
       "      <th>sppe</th>\n",
       "    </tr>\n",
       "  </thead>\n",
       "  <tbody>\n",
       "    <tr>\n",
       "      <th>520</th>\n",
       "      <td>003813</td>\n",
       "      <td>2011.0</td>\n",
       "      <td>TGT</td>\n",
       "      <td>TARGET CORP</td>\n",
       "      <td>16449.0</td>\n",
       "      <td>46630.0</td>\n",
       "      <td>23.6384</td>\n",
       "      <td>794.0</td>\n",
       "      <td>48306.0</td>\n",
       "      <td>777.0</td>\n",
       "      <td>59.0</td>\n",
       "      <td>2929.0</td>\n",
       "      <td>30809.0</td>\n",
       "      <td>2929.0</td>\n",
       "      <td>69865.0</td>\n",
       "      <td>69865.0</td>\n",
       "      <td>15821.0</td>\n",
       "      <td>0.0</td>\n",
       "      <td>37.0</td>\n",
       "    </tr>\n",
       "  </tbody>\n",
       "</table>\n",
       "</div>"
      ],
      "text/plain": [
       "      gvkey   fyear  tic         conm      act       at   bkvlps     ch  \\\n",
       "520  003813  2011.0  TGT  TARGET CORP  16449.0  46630.0  23.6384  794.0   \n",
       "\n",
       "        cogs    dvt  gdwl      ib       lt      ni     revt     sale      seq  \\\n",
       "520  48306.0  777.0  59.0  2929.0  30809.0  2929.0  69865.0  69865.0  15821.0   \n",
       "\n",
       "     siv  sppe  \n",
       "520  0.0  37.0  "
      ]
     },
     "execution_count": 121,
     "metadata": {},
     "output_type": "execute_result"
    }
   ],
   "source": [
    "Full_db[520:521]"
   ]
  },
  {
   "cell_type": "code",
   "execution_count": null,
   "metadata": {
    "collapsed": true
   },
   "outputs": [],
   "source": []
  }
 ],
 "metadata": {
  "kernelspec": {
   "display_name": "Python 3",
   "language": "python",
   "name": "python3"
  },
  "language_info": {
   "codemirror_mode": {
    "name": "ipython",
    "version": 3
   },
   "file_extension": ".py",
   "mimetype": "text/x-python",
   "name": "python",
   "nbconvert_exporter": "python",
   "pygments_lexer": "ipython3",
   "version": "3.4.3"
  }
 },
 "nbformat": 4,
 "nbformat_minor": 2
}
