# -*- coding: utf-8 -*-
"""
Created on Sat Sep 22 19:37:34 2018
@author: ahardy12
"""
#%%
import numpy as np
import pandas as pd
import os  
import seaborn as sns
import matplotlib.pyplot as plt
import csv
import io
import dateutil
import collections
import time
from datetime import datetime
import wrds
import networkx as nx
#%%
db = wrds.Connection()
#%%
list_libraries = db.list_libraries()
#%%
list_libraries
#%%

#%%
with open('S_Chain_No_Dup .csv','rt') as CompanyIn: #reads in the hero-network file
    CompanyIn = csv.reader(CompanyIn)
    headers = next(CompanyIn)
    Companies = [row for row in CompanyIn]
#%%
uniqueCompanies = list(set([row[0] for row in Companies])) #takes the redundancy out of the networks
 
id=list(enumerate(uniqueCompanies))# creates a list of tuples with unique ids and their names for each company in the network
 
keys = {name: i for i, name in enumerate(uniqueCompanies)} #creates a dictionary(hash map) that maps each id to the superhero names
#%%
print(id[:10])
#%%
links = [] #creates a blank list
 
for row in Companies: #maps all of the names in the csv file to their id number
     try:
        links.append({keys[row[0]]: keys[row[1]]})
     except: 
       links.append({row[0]: row[1]})
#%%
G = nx.Graph() #creates a graph
CompanyNodeId=[] 
for row in id:
 CompanyNodeId.append(row[0])
G.add_nodes_from(CompanyNodeId)#creates nodes for the graph.
#%%
for node in links:#loops through each link and changes each dictionary to a tuple so networkx can read in the information
 edges = node.items()
 G.add_edge(*edges[0]) #takes the tuple from the list and unpacks the tuples

nx.draw(G)
plt.show(G)
#%%